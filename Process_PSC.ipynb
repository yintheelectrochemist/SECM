{
 "cells": [
  {
   "cell_type": "markdown",
   "metadata": {
    "collapsed": true
   },
   "source": [
    "# Use this script to normalize the psc curve\n",
    "\n",
    "## The traveling distance normalized by UME radius, and current by bulk current\n",
    "\n",
    "### **IMPORTANT**\n",
    "#### This script can only convert files in text format;\n",
    "#### This script doesn't process the file unless it has 'psc' in the file name, so name your file properly;\n",
    "\n",
    "### **LESS IMPORTANT**\n",
    "#### This script assumes the text data has header and will write a new header into the processed file;\n",
    "#### You just need to change the value of -a- and base directory (-base_dir-)."
   ]
  },
  {
   "cell_type": "code",
   "execution_count": null,
   "metadata": {
    "collapsed": true
   },
   "outputs": [],
   "source": [
    "import os.path\n",
    "from Class_normalizePSC import *"
   ]
  },
  {
   "cell_type": "markdown",
   "metadata": {
    "collapsed": true
   },
   "source": [
    "#### Enter the radius of UME in micron here"
   ]
  },
  {
   "cell_type": "code",
   "execution_count": null,
   "metadata": {
    "collapsed": true
   },
   "outputs": [],
   "source": [
    "a = 5"
   ]
  },
  {
   "cell_type": "markdown",
   "metadata": {},
   "source": [
    "#### Specify the directory ####"
   ]
  },
  {
   "cell_type": "code",
   "execution_count": 4,
   "metadata": {
    "collapsed": true
   },
   "outputs": [],
   "source": [
    "base_dir = 'd:/images/psc/'"
   ]
  },
  {
   "cell_type": "code",
   "execution_count": 6,
   "metadata": {
    "collapsed": false
   },
   "outputs": [
    {
     "name": "stdout",
     "output_type": "stream",
     "text": [
      "File 1 was converted successfully!\n",
      "\n",
      "File 2 was converted successfully!\n",
      "\n",
      "File 3 was converted successfully!\n",
      "\n",
      "File 4 was converted successfully!\n",
      "\n",
      "File 5 was converted successfully!\n",
      "\n",
      "File 6 was converted successfully!\n",
      "\n",
      "File 7 was converted successfully!\n",
      "\n",
      "File 8 was converted successfully!\n",
      "\n",
      "File 9 was converted successfully!\n",
      "\n",
      "File 10 was converted successfully!\n",
      "\n",
      "File 11 was converted successfully!\n",
      "\n",
      "File 12 was converted successfully!\n",
      "\n",
      "File 13 was converted successfully!\n",
      "\n",
      "File 14 was converted successfully!\n",
      "\n",
      "File 15 was converted successfully!\n",
      "\n",
      "File 16 was converted successfully!\n",
      "\n",
      "File 17 was converted successfully!\n",
      "\n",
      "File 18 was converted successfully!\n",
      "\n",
      "File 19 was converted successfully!\n",
      "\n",
      "File 20 was converted successfully!\n",
      "\n",
      "File 21 was converted successfully!\n",
      "\n",
      "File 22 was converted successfully!\n",
      "\n",
      "File 23 was converted successfully!\n",
      "\n",
      "File 24 was converted successfully!\n",
      "\n",
      "File 25 was converted successfully!\n",
      "\n",
      "File 26 was converted successfully!\n",
      "\n",
      "File 27 was converted successfully!\n",
      "\n",
      "File 28 was converted successfully!\n",
      "\n",
      "File 29 was converted successfully!\n",
      "\n",
      "File 30 was converted successfully!\n",
      "\n",
      "File 31 was converted successfully!\n",
      "\n",
      "File 32 was converted successfully!\n",
      "\n",
      "File 33 was converted successfully!\n",
      "\n",
      "File 34 was converted successfully!\n",
      "\n",
      "File 35 was converted successfully!\n",
      "\n",
      "File 36 was converted successfully!\n",
      "\n"
     ]
    }
   ],
   "source": [
    "myCurve = normalizePSC()\n",
    "file_Num = 1\n",
    "if not os.path.exists(os.path.join(base_dir, 'processed/')):\n",
    "    os.makedirs(os.path.join(base_dir, 'processed/'))\n",
    "for file in os.listdir(base_dir):\n",
    "    file_path = os.path.join(base_dir, file)\n",
    "    if os.path.isfile(file_path) and 'psc' in file_path:\n",
    "        storage = os.path.join(base_dir, 'processed/', file)\n",
    "        status = myCurve.process(a, file_path, storage)\n",
    "        msg = 'File ' + str(file_Num) + ' was converted successfully!\\n' \n",
    "        file_Num = file_Num + 1\n",
    "        print(msg)"
   ]
  },
  {
   "cell_type": "code",
   "execution_count": null,
   "metadata": {
    "collapsed": true
   },
   "outputs": [],
   "source": []
  }
 ],
 "metadata": {
  "kernelspec": {
   "display_name": "Python 3",
   "language": "python",
   "name": "python3"
  },
  "language_info": {
   "codemirror_mode": {
    "name": "ipython",
    "version": 3
   },
   "file_extension": ".py",
   "mimetype": "text/x-python",
   "name": "python",
   "nbconvert_exporter": "python",
   "pygments_lexer": "ipython3",
   "version": "3.6.0"
  }
 },
 "nbformat": 4,
 "nbformat_minor": 2
}
